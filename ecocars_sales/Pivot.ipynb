{
 "cells": [
  {
   "cell_type": "code",
   "execution_count": 10,
   "metadata": {},
   "outputs": [],
   "source": [
    "#Imprort des librairies nécessaires\n",
    "import pandas as pd\n",
    "import numpy as np\n",
    "\n",
    "ecocars = pd.read_csv(\"final_ventes_ve_totales_alternative.csv\", sep=\",\",encoding=\"utf-8\")\n",
    "\n",
    "ecocars_v2=pd.melt(ecocars , id_vars=['date'], value_vars= ecocars.columns[1:-2], value_name=\"Vente\", var_name=\"Modèle\")\n"
   ]
  },
  {
   "cell_type": "code",
   "execution_count": 11,
   "metadata": {},
   "outputs": [
    {
     "data": {
      "text/html": [
       "<div>\n",
       "<style scoped>\n",
       "    .dataframe tbody tr th:only-of-type {\n",
       "        vertical-align: middle;\n",
       "    }\n",
       "\n",
       "    .dataframe tbody tr th {\n",
       "        vertical-align: top;\n",
       "    }\n",
       "\n",
       "    .dataframe thead th {\n",
       "        text-align: right;\n",
       "    }\n",
       "</style>\n",
       "<table border=\"1\" class=\"dataframe\">\n",
       "  <thead>\n",
       "    <tr style=\"text-align: right;\">\n",
       "      <th></th>\n",
       "      <th>date</th>\n",
       "      <th>Modèle</th>\n",
       "      <th>Vente</th>\n",
       "    </tr>\n",
       "  </thead>\n",
       "  <tbody>\n",
       "    <tr>\n",
       "      <th>0</th>\n",
       "      <td>2013-01-01</td>\n",
       "      <td>Renault Zoe</td>\n",
       "      <td>70.0</td>\n",
       "    </tr>\n",
       "    <tr>\n",
       "      <th>1</th>\n",
       "      <td>2013-02-01</td>\n",
       "      <td>Renault Zoe</td>\n",
       "      <td>440.0</td>\n",
       "    </tr>\n",
       "    <tr>\n",
       "      <th>2</th>\n",
       "      <td>2013-03-01</td>\n",
       "      <td>Renault Zoe</td>\n",
       "      <td>1089.0</td>\n",
       "    </tr>\n",
       "    <tr>\n",
       "      <th>3</th>\n",
       "      <td>2013-04-01</td>\n",
       "      <td>Renault Zoe</td>\n",
       "      <td>748.0</td>\n",
       "    </tr>\n",
       "    <tr>\n",
       "      <th>4</th>\n",
       "      <td>2013-05-01</td>\n",
       "      <td>Renault Zoe</td>\n",
       "      <td>483.0</td>\n",
       "    </tr>\n",
       "    <tr>\n",
       "      <th>...</th>\n",
       "      <td>...</td>\n",
       "      <td>...</td>\n",
       "      <td>...</td>\n",
       "    </tr>\n",
       "    <tr>\n",
       "      <th>5275</th>\n",
       "      <td>2020-08-01</td>\n",
       "      <td>Autres</td>\n",
       "      <td>0.0</td>\n",
       "    </tr>\n",
       "    <tr>\n",
       "      <th>5276</th>\n",
       "      <td>2020-09-01</td>\n",
       "      <td>Autres</td>\n",
       "      <td>0.0</td>\n",
       "    </tr>\n",
       "    <tr>\n",
       "      <th>5277</th>\n",
       "      <td>2020-10-01</td>\n",
       "      <td>Autres</td>\n",
       "      <td>0.0</td>\n",
       "    </tr>\n",
       "    <tr>\n",
       "      <th>5278</th>\n",
       "      <td>2020-11-01</td>\n",
       "      <td>Autres</td>\n",
       "      <td>0.0</td>\n",
       "    </tr>\n",
       "    <tr>\n",
       "      <th>5279</th>\n",
       "      <td>2020-12-01</td>\n",
       "      <td>Autres</td>\n",
       "      <td>0.0</td>\n",
       "    </tr>\n",
       "  </tbody>\n",
       "</table>\n",
       "<p>5280 rows × 3 columns</p>\n",
       "</div>"
      ],
      "text/plain": [
       "            date       Modèle   Vente\n",
       "0     2013-01-01  Renault Zoe    70.0\n",
       "1     2013-02-01  Renault Zoe   440.0\n",
       "2     2013-03-01  Renault Zoe  1089.0\n",
       "3     2013-04-01  Renault Zoe   748.0\n",
       "4     2013-05-01  Renault Zoe   483.0\n",
       "...          ...          ...     ...\n",
       "5275  2020-08-01       Autres     0.0\n",
       "5276  2020-09-01       Autres     0.0\n",
       "5277  2020-10-01       Autres     0.0\n",
       "5278  2020-11-01       Autres     0.0\n",
       "5279  2020-12-01       Autres     0.0\n",
       "\n",
       "[5280 rows x 3 columns]"
      ]
     },
     "execution_count": 11,
     "metadata": {},
     "output_type": "execute_result"
    }
   ],
   "source": [
    "ecocars_v2"
   ]
  },
  {
   "cell_type": "code",
   "execution_count": 12,
   "metadata": {},
   "outputs": [],
   "source": [
    "ecocars_v2.to_csv(\"final_ventes_ve_totales_alternative_v2.csv\",sep=';', index = False)"
   ]
  },
  {
   "cell_type": "code",
   "execution_count": 9,
   "metadata": {},
   "outputs": [
    {
     "data": {
      "text/plain": [
       "Index(['date', 'Renault Zoe', 'Tesla model 3', 'Nissan Leaf',\n",
       "       'Bolloré Bluecar', 'Smart Fortwo', 'Mia', 'Peugeot iOn',\n",
       "       'Citroen C-Zero', 'BMW i3', 'Volkswagen E-Up', 'Mitsubishi i-MiEV',\n",
       "       'Renault Fluence ZE', 'Tesla Model S', 'Ford Focus', 'Neoma',\n",
       "       'Audi TT Roadster', 'Volkswagen E-Golf', 'Kia Soul EV',\n",
       "       'Mercedes Classe B', 'BYD E6', 'Tesla Model X', 'Citroen E-Mehari',\n",
       "       'Hyundai Ioniq electrique', 'Nissan e-NV200 Evalia',\n",
       "       'Peugeot Partner tepee Electric', 'Smart Forfour',\n",
       "       'Citroen e-Berlingo Multispace', 'Bee Bee XS', 'Jaguar i-Pace',\n",
       "       'Hyundai Kona electrique', 'Kia e-Niro', 'Audi E-Tron', 'DS3 e-tense',\n",
       "       'Mercedes Benz EQC', 'Peugeot e208', 'Peugeot e2008', 'Mini Electric',\n",
       "       'Opel Corsa-E', 'Volkswagen ID.3', 'Kia E-soul', 'Renault Twingo ZE',\n",
       "       'MG ZS EV', 'Skoda Citigo', 'Mazda MX-30', 'Porsche Taycan', 'Seat MII',\n",
       "       'Honda E', 'Citroen E-C4', 'Peugeot Expert', 'Citroen E-Jumpy',\n",
       "       'Mercedes EQV', 'BMW I3 Rex', 'AIWAYS U5', 'Mercedes E-Vito', 'Autres',\n",
       "       'year', 'month'],\n",
       "      dtype='object')"
      ]
     },
     "execution_count": 9,
     "metadata": {},
     "output_type": "execute_result"
    }
   ],
   "source": [
    "ecocars.columns"
   ]
  },
  {
   "cell_type": "code",
   "execution_count": null,
   "metadata": {},
   "outputs": [],
   "source": []
  }
 ],
 "metadata": {
  "kernelspec": {
   "display_name": "Python 3",
   "language": "python",
   "name": "python3"
  },
  "language_info": {
   "codemirror_mode": {
    "name": "ipython",
    "version": 3
   },
   "file_extension": ".py",
   "mimetype": "text/x-python",
   "name": "python",
   "nbconvert_exporter": "python",
   "pygments_lexer": "ipython3",
   "version": "3.8.5"
  }
 },
 "nbformat": 4,
 "nbformat_minor": 4
}
