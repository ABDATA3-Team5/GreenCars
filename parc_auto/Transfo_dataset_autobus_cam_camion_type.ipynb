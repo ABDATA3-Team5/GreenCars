{
 "cells": [
  {
   "cell_type": "code",
   "execution_count": 4,
   "metadata": {},
   "outputs": [],
   "source": [
    "#Imprort des librairies nécessaires\n",
    "import pandas as pd\n",
    "import numpy as np"
   ]
  },
  {
   "cell_type": "code",
   "execution_count": 5,
   "metadata": {},
   "outputs": [],
   "source": [
    "#Preparation des jeux de données autobus:\n",
    "\n",
    "#1)Lecture du fichier\n",
    "excel_autobus = pd.read_excel(\"https://www.statistiques.developpement-durable.gouv.fr/sites/default/files/2019-04/2019-parc-vehicules-routiers-3pf2.xls\", header = None)\n",
    "\n",
    "#2)Division du jeu de do en 2\n",
    "excel_autobus_ap_2010= excel_autobus[:66]\n",
    "excel_autobus_av_2010= excel_autobus[66:]\n",
    "\n",
    "#3)Nom de colonnes :\n",
    "col_names_ap_2010_temp=[\"Classes de places assises\",\"2010\",\"2011\",\"2012\",\"2013\",\"2014\",\"2015\",\"2016\",\"2017\",\"2018\",\"2019\"]\n",
    "col_names_av_2010_temp=[\"Classes de places assises\",\"2001\",\"2002\",\"2003\",\"2004\",\"2005\",\"2006\",\"2007\",\"2008\",\"2009\"]\n",
    "\n",
    "###4.1) Formatage dataset - Après 2010: \n",
    "excel_autobus_ap_2010.columns = col_names_ap_2010_temp\n",
    "#Supp ds 3 premières lignes et de la derniere (afin de garder un ligne vide avant et après)\n",
    "excel_autobus_ap_2010=excel_autobus_ap_2010[3:]\n",
    "excel_autobus_ap_2010=excel_autobus_ap_2010[:-1]\n",
    "excel_autobus_ap_2010=excel_autobus_ap_2010.reset_index(drop=True)\n",
    "\n",
    "###4.2) Formatage dataset - Avant 2010:\n",
    "#Suppression de la dernière colonne et attribution de noms de colonnes\n",
    "excel_autobus_av_2010=excel_autobus_av_2010.iloc[:, :-1]\n",
    "excel_autobus_av_2010.columns=col_names_av_2010_temp\n",
    "\n",
    "#Supp de la première ligne et rajout d'une derniere ligne (afin de garder un ligne vide avant et après)\n",
    "excel_autobus_av_2010.loc[len(excel_autobus_av_2010)] = np.nan\n",
    "excel_autobus_av_2010=excel_autobus_av_2010[1:]\n",
    "excel_autobus_av_2010=excel_autobus_av_2010.reset_index(drop=True)"
   ]
  },
  {
   "cell_type": "code",
   "execution_count": 6,
   "metadata": {},
   "outputs": [],
   "source": [
    "#Preparation des jeux de données cam_camionette:\n",
    "\n",
    "#1)Lecture du fichier\n",
    "excel_cam = pd.read_excel(\"https://www.statistiques.developpement-durable.gouv.fr/sites/default/files/2019-04/2019-parc-vehicules-routiers-5pf2.xls\", header = None)\n",
    "\n",
    "#2)Nom de colonnes :\n",
    "col_names_cam=[\"Classes de PTAC\",\"2010\",\"2011\",\"2012\",\"2013\",\"2014\",\"2015\",\"2016\",\"2017\",\"2018\",\"2019\"]\n",
    "\n",
    "#3) Formatage Dataset\n",
    "#Attribution des noms de colonnes\n",
    "excel_cam.columns = col_names_cam\n",
    "#Supp ds 2 premières lignes et de la derniere (afin de garder un ligne vide avant et après)\n",
    "excel_cam=excel_cam[2:]\n",
    "excel_cam=excel_cam[:-1]\n",
    "excel_cam=excel_cam.reset_index(drop=True)\n",
    "excel_cam.iloc[0]=np.nan # On set toute la première ligne à null"
   ]
  },
  {
   "cell_type": "code",
   "execution_count": 7,
   "metadata": {},
   "outputs": [],
   "source": [
    "def recup_tab_energie (dataset, tab_colnames):\n",
    "    col_categorie=tab_colnames[0]\n",
    "    #Récuperation des lignes de séparation entre chaque tableau\n",
    "    sep=[l for l in range(len(dataset)) if dataset.iloc[l].isna().all()]\n",
    "\n",
    "    #Récuperation des tableaux par energie\n",
    "    tab=dict()\n",
    "    for s in range(len(sep)-1) :\n",
    "        #print(sep[s]+1, dataset['Classes de places assises'][sep[s]+1])\n",
    "        tab[dataset[col_categorie][sep[s]+1]]=dataset.iloc[sep[s]+3:sep[s+1]-1]\n",
    "        #sep[s]+3 afin d'enlever la ligne vide + la ligne du type denergie + la ligne des titres de colonnes\n",
    "        #sep[s+1]-1 afin d'enlever la ligne Total\n",
    "    return (tab)\n",
    "    "
   ]
  },
  {
   "cell_type": "code",
   "execution_count": 8,
   "metadata": {},
   "outputs": [],
   "source": [
    "def pivot_and_merge (tab, tab_colnames):\n",
    "    col_categorie=tab_colnames[0]\n",
    "    #Pivot de chaque tableau et récupération sous forme de liste\n",
    "    tab_transfo=list()\n",
    "    for energie in tab:\n",
    "        #tab[energie]=pd.melt(tab[energie],id_vars=[col_categorie], value_vars=[\"2010\",\"2011\",\"2012\",\"2013\",\"2014\",\"2015\",\"2016\",\"2017\",\"2018\",\"2019\"],var_name=\"Année\", value_name=str(energie))\n",
    "        #tab_transfo=list(tab.values())\n",
    "        tab_transfo.append(pd.melt(tab[energie],id_vars=[col_categorie], value_vars=tab_colnames[1:],var_name=\"Année\", value_name=str(energie)))\n",
    "\n",
    "    # Merging des tableaux\n",
    "    tab_transfo_merged=tab_transfo[0]\n",
    "    del tab_transfo[0]\n",
    "    for tab in tab_transfo:\n",
    "        tab_transfo_merged = pd.merge(tab_transfo_merged, tab,on=[col_categorie,'Année'],how='outer')\n",
    "\n",
    "    #Remplacement des valeurs nulles\n",
    "    tab_transfo_merged.iloc[:,2:]=tab_transfo_merged.iloc[:,2:].fillna(0).astype(int)\n",
    "    #tab_transfo_merged.isnull().sum()\n",
    "    \n",
    "    return(tab_transfo_merged)\n",
    "   "
   ]
  },
  {
   "cell_type": "code",
   "execution_count": 21,
   "metadata": {},
   "outputs": [],
   "source": [
    "autobus_ap_2010_transfo=pivot_and_merge(recup_tab_energie(excel_autobus_ap_2010,col_names_ap_2010_temp),col_names_ap_2010_temp)\n",
    "\n",
    "autobus_ap_2010_transfo.to_csv(\"autobus_ap_2010_par_type.csv\",sep=';', index = False)\n",
    "\n",
    "autobus_ap_2010_transfo_v2= pd.melt(autobus_ap_2010_transfo , id_vars=['Classes de places assises', 'Année'], value_vars=['Gazole', 'Gaz naturel','Gazole-électricité', 'Autres hydrocarbures gazeux comprimés', 'Electricité', 'Autres énergies'], value_name=\"Nb_véhicules\", var_name=\"Fuel\")\n",
    "\n",
    "autobus_ap_2010_transfo_v2.to_csv(\"autobus_ap_2010_par_type_v2.csv\",sep=';', index = False)\n",
    "\n",
    "\n",
    "\n",
    "autobus_av_2010_transfo=pivot_and_merge(recup_tab_energie(excel_autobus_av_2010,col_names_av_2010_temp),col_names_av_2010_temp)\n",
    "\n",
    "autobus_av_2010_transfo.to_csv(\"autobus_av_2010_par_type.csv\",sep=';', index = False)\n",
    "\n",
    "autobus_av_2010_transfo_v2= pd.melt(autobus_av_2010_transfo , id_vars=['Classes de places assises', 'Année'], value_vars=['Essence (ordinaire et super)','Gazole', 'Gaz naturel véhicule (GNV)', 'Autres  et  non déterminées'], value_name=\"Nb_véhicules\", var_name=\"Fuel\")\n",
    "\n",
    "autobus_av_2010_transfo_v2.to_csv(\"autobus_av_2010_par_type_v2.csv\",sep=';', index = False)\n"
   ]
  },
  {
   "cell_type": "code",
   "execution_count": 10,
   "metadata": {},
   "outputs": [],
   "source": [
    "tab_cam=recup_tab_energie(excel_cam,col_names_cam) \n",
    "\n",
    "tab_camionnette=dict()\n",
    "tab_camion=dict()\n",
    "\n",
    "#Recupération des tableau camion d'un coté et camionettes de l'autre\n",
    "for energie in tab_cam:\n",
    "    tab_cam[energie]=tab_cam[energie].reset_index(drop=True)\n",
    "    \n",
    "    #sep_cam_camion[energie]= [l for l in range(len(tab_cam[energie])) if \"Total\" in tab_cam[energie][\"Classes de PTAC\"][l]]\n",
    "    \n",
    "    tab_camionnette[energie]=tab_cam[energie][0:4]\n",
    "    tab_camion[energie]=tab_cam[energie][5:12]\n",
    "\n",
    "tab_camion_transfo=pivot_and_merge(tab_camion, col_names_cam)\n",
    "\n",
    "#tab_camion_transfo.to_csv(\"camion_par_type.csv\",sep=';', index = False)\n",
    "\n",
    "tab_camion_transfo_v2 = pd.melt(tab_camion_transfo , id_vars=['Classes de PTAC', 'Année'], value_vars=['Gazole', 'Essence', 'Electricité', 'Essence-GPL', 'Autres et non  déterminées'], value_name=\"Nb_véhicules\", var_name=\"Fuel\")\n",
    "\n",
    "tab_camion_transfo_v2.to_csv(\"camion_par_type_v2.csv\",sep=';', index = False)\n",
    "\n",
    "\n",
    "tab_camionnette_transfo=pivot_and_merge(tab_camionnette, col_names_cam)\n",
    "\n",
    "#tab_camionnette_transfo.to_csv(\"camionnette_par_type.csv\",sep=';', index = False)\n",
    "\n",
    "tab_camionnette_transfo_v2=pd.melt(tab_camionnette_transfo , id_vars=['Classes de PTAC', 'Année'], value_vars=['Gazole', 'Essence', 'Electricité', 'Essence-GPL', 'Autres et non  déterminées'], value_name=\"Nb_véhicules\", var_name=\"Fuel\")\n",
    "\n",
    "tab_camionnette_transfo_v2.to_csv(\"camionnette_par_type_v2.csv\",sep=';', index = False)\n"
   ]
  },
  {
   "cell_type": "code",
   "execution_count": 26,
   "metadata": {},
   "outputs": [
    {
     "data": {
      "text/plain": [
       "Index(['Classes de PTAC', 'Année', 'Gazole', 'Essence', 'Electricité',\n",
       "       'Essence-GPL', 'Autres et non  déterminées'],\n",
       "      dtype='object')"
      ]
     },
     "execution_count": 26,
     "metadata": {},
     "output_type": "execute_result"
    }
   ],
   "source": [
    "tab_camionnette_transfo.columns"
   ]
  },
  {
   "cell_type": "code",
   "execution_count": 27,
   "metadata": {},
   "outputs": [
    {
     "data": {
      "text/plain": [
       "Index(['Classes de PTAC', 'Année', 'Gazole', 'Essence', 'Electricité',\n",
       "       'Essence-GPL', 'Autres et non  déterminées'],\n",
       "      dtype='object')"
      ]
     },
     "execution_count": 27,
     "metadata": {},
     "output_type": "execute_result"
    }
   ],
   "source": [
    "tab_camion_transfo.columns"
   ]
  },
  {
   "cell_type": "code",
   "execution_count": 28,
   "metadata": {},
   "outputs": [
    {
     "data": {
      "text/html": [
       "<div>\n",
       "<style scoped>\n",
       "    .dataframe tbody tr th:only-of-type {\n",
       "        vertical-align: middle;\n",
       "    }\n",
       "\n",
       "    .dataframe tbody tr th {\n",
       "        vertical-align: top;\n",
       "    }\n",
       "\n",
       "    .dataframe thead th {\n",
       "        text-align: right;\n",
       "    }\n",
       "</style>\n",
       "<table border=\"1\" class=\"dataframe\">\n",
       "  <thead>\n",
       "    <tr style=\"text-align: right;\">\n",
       "      <th></th>\n",
       "      <th>Classes de PTAC</th>\n",
       "      <th>Année</th>\n",
       "      <th>Fuel</th>\n",
       "      <th>Nb_véhicules</th>\n",
       "    </tr>\n",
       "  </thead>\n",
       "  <tbody>\n",
       "    <tr>\n",
       "      <th>0</th>\n",
       "      <td>Moins de 1,5 tonnes</td>\n",
       "      <td>2010</td>\n",
       "      <td>Gazole</td>\n",
       "      <td>765442</td>\n",
       "    </tr>\n",
       "    <tr>\n",
       "      <th>1</th>\n",
       "      <td>1,5 à 2,5 tonnes</td>\n",
       "      <td>2010</td>\n",
       "      <td>Gazole</td>\n",
       "      <td>2959183</td>\n",
       "    </tr>\n",
       "    <tr>\n",
       "      <th>2</th>\n",
       "      <td>2,6 à 3,5 tonnes</td>\n",
       "      <td>2010</td>\n",
       "      <td>Gazole</td>\n",
       "      <td>2084076</td>\n",
       "    </tr>\n",
       "    <tr>\n",
       "      <th>3</th>\n",
       "      <td>Non déterminée</td>\n",
       "      <td>2010</td>\n",
       "      <td>Gazole</td>\n",
       "      <td>509</td>\n",
       "    </tr>\n",
       "    <tr>\n",
       "      <th>4</th>\n",
       "      <td>Moins de 1,5 tonnes</td>\n",
       "      <td>2011</td>\n",
       "      <td>Gazole</td>\n",
       "      <td>663230</td>\n",
       "    </tr>\n",
       "    <tr>\n",
       "      <th>...</th>\n",
       "      <td>...</td>\n",
       "      <td>...</td>\n",
       "      <td>...</td>\n",
       "      <td>...</td>\n",
       "    </tr>\n",
       "    <tr>\n",
       "      <th>195</th>\n",
       "      <td>Non déterminée</td>\n",
       "      <td>2018</td>\n",
       "      <td>Autres et non  déterminées</td>\n",
       "      <td>42</td>\n",
       "    </tr>\n",
       "    <tr>\n",
       "      <th>196</th>\n",
       "      <td>Moins de 1,5 tonnes</td>\n",
       "      <td>2019</td>\n",
       "      <td>Autres et non  déterminées</td>\n",
       "      <td>1953</td>\n",
       "    </tr>\n",
       "    <tr>\n",
       "      <th>197</th>\n",
       "      <td>1,5 à 2,5 tonnes</td>\n",
       "      <td>2019</td>\n",
       "      <td>Autres et non  déterminées</td>\n",
       "      <td>6073</td>\n",
       "    </tr>\n",
       "    <tr>\n",
       "      <th>198</th>\n",
       "      <td>2,6 à 3,5 tonnes</td>\n",
       "      <td>2019</td>\n",
       "      <td>Autres et non  déterminées</td>\n",
       "      <td>3038</td>\n",
       "    </tr>\n",
       "    <tr>\n",
       "      <th>199</th>\n",
       "      <td>Non déterminée</td>\n",
       "      <td>2019</td>\n",
       "      <td>Autres et non  déterminées</td>\n",
       "      <td>50</td>\n",
       "    </tr>\n",
       "  </tbody>\n",
       "</table>\n",
       "<p>200 rows × 4 columns</p>\n",
       "</div>"
      ],
      "text/plain": [
       "           Classes de PTAC Année                        Fuel  Nb_véhicules\n",
       "0      Moins de 1,5 tonnes  2010                      Gazole        765442\n",
       "1         1,5 à 2,5 tonnes  2010                      Gazole       2959183\n",
       "2         2,6 à 3,5 tonnes  2010                      Gazole       2084076\n",
       "3           Non déterminée  2010                      Gazole           509\n",
       "4      Moins de 1,5 tonnes  2011                      Gazole        663230\n",
       "..                     ...   ...                         ...           ...\n",
       "195         Non déterminée  2018  Autres et non  déterminées            42\n",
       "196    Moins de 1,5 tonnes  2019  Autres et non  déterminées          1953\n",
       "197       1,5 à 2,5 tonnes  2019  Autres et non  déterminées          6073\n",
       "198       2,6 à 3,5 tonnes  2019  Autres et non  déterminées          3038\n",
       "199         Non déterminée  2019  Autres et non  déterminées            50\n",
       "\n",
       "[200 rows x 4 columns]"
      ]
     },
     "execution_count": 28,
     "metadata": {},
     "output_type": "execute_result"
    }
   ],
   "source": [
    "pd.melt(tab_camionnette_transfo , id_vars=['Classes de PTAC', 'Année'], value_vars=['Gazole', 'Essence', 'Electricité', 'Essence-GPL', 'Autres et non  déterminées'], value_name=\"Nb_véhicules\", var_name=\"Fuel\")\n"
   ]
  },
  {
   "cell_type": "code",
   "execution_count": null,
   "metadata": {},
   "outputs": [],
   "source": []
  }
 ],
 "metadata": {
  "kernelspec": {
   "display_name": "Python 3",
   "language": "python",
   "name": "python3"
  },
  "language_info": {
   "codemirror_mode": {
    "name": "ipython",
    "version": 3
   },
   "file_extension": ".py",
   "mimetype": "text/x-python",
   "name": "python",
   "nbconvert_exporter": "python",
   "pygments_lexer": "ipython3",
   "version": "3.8.5"
  }
 },
 "nbformat": 4,
 "nbformat_minor": 4
}
