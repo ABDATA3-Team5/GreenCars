{
 "cells": [
  {
   "cell_type": "code",
   "execution_count": 18,
   "metadata": {},
   "outputs": [],
   "source": [
    "#Imprort des librairies nécessaires\n",
    "import pandas as pd\n",
    "import numpy as np"
   ]
  },
  {
   "cell_type": "code",
   "execution_count": 19,
   "metadata": {},
   "outputs": [],
   "source": [
    "#Preparation des jeux de données autobus:\n",
    "\n",
    "#1)Lecture du fichier\n",
    "excel_autobus = pd.read_excel(\"https://www.statistiques.developpement-durable.gouv.fr/sites/default/files/2019-04/2019-parc-vehicules-routiers-3pf2.xls\", header = None)\n",
    "\n",
    "#2)Division du jeu de do en 2\n",
    "excel_autobus_ap_2010= excel_autobus[:66]\n",
    "excel_autobus_av_2010= excel_autobus[66:]\n",
    "\n",
    "#3)Nom de colonnes :\n",
    "col_names_ap_2010_temp=[\"Classes de places assises\",\"2010\",\"2011\",\"2012\",\"2013\",\"2014\",\"2015\",\"2016\",\"2017\",\"2018\",\"2019\"]\n",
    "col_names_av_2010_temp=[\"Classes de places assises\",\"2001\",\"2002\",\"2003\",\"2004\",\"2005\",\"2006\",\"2007\",\"2008\",\"2009\"]\n",
    "\n",
    "###4.1) Formatage dataset - Après 2010: \n",
    "excel_autobus_ap_2010.columns = col_names_ap_2010_temp\n",
    "#Supp ds 3 premières lignes et de la derniere (afin de garder un ligne vide avant et après)\n",
    "excel_autobus_ap_2010=excel_autobus_ap_2010[3:]\n",
    "excel_autobus_ap_2010=excel_autobus_ap_2010[:-1]\n",
    "excel_autobus_ap_2010=excel_autobus_ap_2010.reset_index(drop=True)\n",
    "\n",
    "###4.2) Formatage dataset - Avant 2010:\n",
    "#Suppression de la dernière colonne et attribution de noms de colonnes\n",
    "excel_autobus_av_2010=excel_autobus_av_2010.iloc[:, :-1]\n",
    "excel_autobus_av_2010.columns=col_names_av_2010_temp\n",
    "\n",
    "#Supp de la première ligne et rajout d'une derniere ligne (afin de garder un ligne vide avant et après)\n",
    "excel_autobus_av_2010.loc[len(excel_autobus_av_2010)] = np.nan\n",
    "excel_autobus_av_2010=excel_autobus_av_2010[1:]\n",
    "excel_autobus_av_2010=excel_autobus_av_2010.reset_index(drop=True)"
   ]
  },
  {
   "cell_type": "code",
   "execution_count": 20,
   "metadata": {},
   "outputs": [],
   "source": [
    "#Preparation des jeux de données cam_camionette:\n",
    "\n",
    "#1)Lecture du fichier\n",
    "excel_cam = pd.read_excel(\"https://www.statistiques.developpement-durable.gouv.fr/sites/default/files/2019-04/2019-parc-vehicules-routiers-5pf2.xls\", header = None)\n",
    "\n",
    "#2)Nom de colonnes :\n",
    "col_names_cam=[\"Classes de PTAC\",\"2010\",\"2011\",\"2012\",\"2013\",\"2014\",\"2015\",\"2016\",\"2017\",\"2018\",\"2019\"]\n",
    "\n",
    "#3) Formatage Dataset\n",
    "#Attribution des noms de colonnes\n",
    "excel_cam.columns = col_names_cam\n",
    "#Supp ds 2 premières lignes et de la derniere (afin de garder un ligne vide avant et après)\n",
    "excel_cam=excel_cam[2:]\n",
    "excel_cam=excel_cam[:-1]\n",
    "excel_cam=excel_cam.reset_index(drop=True)\n",
    "excel_cam.iloc[0]=np.nan # On set toute la première ligne à null"
   ]
  },
  {
   "cell_type": "code",
   "execution_count": 21,
   "metadata": {},
   "outputs": [],
   "source": [
    "def recup_tab_energie (dataset, tab_colnames):\n",
    "    col_categorie=tab_colnames[0]\n",
    "    #Récuperation des lignes de séparation entre chaque tableau\n",
    "    sep=[l for l in range(len(dataset)) if dataset.iloc[l].isna().all()]\n",
    "\n",
    "    #Récuperation des tableaux par energie\n",
    "    tab=dict()\n",
    "    for s in range(len(sep)-1) :\n",
    "        #print(sep[s]+1, dataset['Classes de places assises'][sep[s]+1])\n",
    "        tab[dataset[col_categorie][sep[s]+1]]=dataset.iloc[sep[s]+3:sep[s+1]-1]\n",
    "        #sep[s]+3 afin d'enlever la ligne vide + la ligne du type denergie + la ligne des titres de colonnes\n",
    "        #sep[s+1]-1 afin d'enlever la ligne Total\n",
    "    return (tab)\n",
    "    "
   ]
  },
  {
   "cell_type": "code",
   "execution_count": 22,
   "metadata": {},
   "outputs": [],
   "source": [
    "def pivot_and_merge (tab, tab_colnames):\n",
    "    col_categorie=tab_colnames[0]\n",
    "    #Pivot de chaque tableau et récupération sous forme de liste\n",
    "    tab_transfo=list()\n",
    "    for energie in tab:\n",
    "        #tab[energie]=pd.melt(tab[energie],id_vars=[col_categorie], value_vars=[\"2010\",\"2011\",\"2012\",\"2013\",\"2014\",\"2015\",\"2016\",\"2017\",\"2018\",\"2019\"],var_name=\"Année\", value_name=str(energie))\n",
    "        #tab_transfo=list(tab.values())\n",
    "        tab_transfo.append(pd.melt(tab[energie],id_vars=[col_categorie], value_vars=tab_colnames[1:],var_name=\"Année\", value_name=str(energie)))\n",
    "\n",
    "    # Merging des tableaux\n",
    "    tab_transfo_merged=tab_transfo[0]\n",
    "    del tab_transfo[0]\n",
    "    for tab in tab_transfo:\n",
    "        tab_transfo_merged = pd.merge(tab_transfo_merged, tab,on=[col_categorie,'Année'],how='outer')\n",
    "\n",
    "    #Remplacement des valeurs nulles\n",
    "    tab_transfo_merged.iloc[:,2:]=tab_transfo_merged.iloc[:,2:].fillna(0).astype(int)\n",
    "    #tab_transfo_merged.isnull().sum()\n",
    "    \n",
    "    return(tab_transfo_merged)\n",
    "   "
   ]
  },
  {
   "cell_type": "code",
   "execution_count": 27,
   "metadata": {},
   "outputs": [],
   "source": [
    "autobus_ap_2010_transfo=pivot_and_merge(recup_tab_energie(excel_autobus_ap_2010,col_names_ap_2010_temp),col_names_ap_2010_temp)\n",
    "\n",
    "#autobus_ap_2010_transfo.to_csv(\"autobus_ap_2010.csv\",sep=';', index = False)\n",
    "\n",
    "autobus_av_2010_transfo=pivot_and_merge(recup_tab_energie(excel_autobus_av_2010,col_names_av_2010_temp),col_names_av_2010_temp)\n",
    "\n",
    "#autobus_av_2010_transfo.to_csv(\"autobus_av_2010.csv\",sep=';', index = False)"
   ]
  },
  {
   "cell_type": "code",
   "execution_count": 33,
   "metadata": {},
   "outputs": [],
   "source": [
    "tab_cam=recup_tab_energie(excel_cam,col_names_cam) \n",
    "\n",
    "tab_camionnette=dict()\n",
    "tab_camion=dict()\n",
    "\n",
    "#Recupération des tableau camion d'un coté et camionettes de l'autre\n",
    "for energie in tab_cam:\n",
    "    tab_cam[energie]=tab_cam[energie].reset_index(drop=True)\n",
    "    \n",
    "    #sep_cam_camion[energie]= [l for l in range(len(tab_cam[energie])) if \"Total\" in tab_cam[energie][\"Classes de PTAC\"][l]]\n",
    "    \n",
    "    tab_camionnette[energie]=tab_cam[energie][0:4]\n",
    "    tab_camion[energie]=tab_cam[energie][5:12]\n",
    "\n",
    "tab_camion_transfo=pivot_and_merge(tab_camion, col_names_cam)\n",
    "\n",
    "tab_camion_transfo.to_csv(\"camion.csv\",sep=';', index = False)\n",
    "\n",
    "tab_camionnette_transfo=pivot_and_merge(tab_camionnette, col_names_cam)\n",
    "\n",
    "tab_camionnette_transfo.to_csv(\"camionnette.csv\",sep=';', index = False)\n",
    "\n"
   ]
  }
 ],
 "metadata": {
  "kernelspec": {
   "display_name": "Python 3",
   "language": "python",
   "name": "python3"
  },
  "language_info": {
   "codemirror_mode": {
    "name": "ipython",
    "version": 3
   },
   "file_extension": ".py",
   "mimetype": "text/x-python",
   "name": "python",
   "nbconvert_exporter": "python",
   "pygments_lexer": "ipython3",
   "version": "3.8.5"
  }
 },
 "nbformat": 4,
 "nbformat_minor": 4
}
